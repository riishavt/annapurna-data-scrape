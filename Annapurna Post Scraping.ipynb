{
 "cells": [
  {
   "cell_type": "code",
   "execution_count": 121,
   "id": "2da2598b",
   "metadata": {},
   "outputs": [
    {
     "name": "stdout",
     "output_type": "stream",
     "text": [
      "https://annapurnapost.com/category/apheadline/?page=1\n",
      "https://annapurnapost.com/category/apheadline/?page=2\n",
      "https://annapurnapost.com/category/apheadline/?page=3\n",
      "https://annapurnapost.com/category/apheadline/?page=4\n",
      "https://annapurnapost.com/category/apheadline/?page=5\n",
      "https://annapurnapost.com/category/apheadline/?page=6\n",
      "https://annapurnapost.com/category/apheadline/?page=7\n",
      "https://annapurnapost.com/category/apheadline/?page=8\n",
      "https://annapurnapost.com/category/apheadline/?page=9\n"
     ]
    }
   ],
   "source": [
    "#importing necessary libraries\n",
    "import requests\n",
    "from bs4 import BeautifulSoup\n",
    "import pandas as pd\n",
    "\n",
    "#creating the list to append the data\n",
    "news = []\n",
    "\n",
    "#looping to get multiple pages of scraping\n",
    "for i in range(1, 10):\n",
    "    url = f\"https://annapurnapost.com/category/apheadline/?page={i}\"\n",
    "    print(url)\n",
    "    response = requests.get(url)\n",
    "    response = response.content\n",
    "    soup = BeautifulSoup(response, 'html.parser')\n",
    "    body = soup.find('body')\n",
    "    headlines = body.find('div', class_='category__news-grid')\n",
    "    category = headlines.find_all('div', class_='grid__card')\n",
    "\n",
    "    for categories in category:\n",
    "        subject = categories.find('div', class_='card__category').text\n",
    "        headline = categories.find('h3', class_='card__title').text\n",
    "        description = categories.find('div', class_='card__desc').text\n",
    "        news.append([subject, headline, description])\n",
    "\n",
    "#organizing the resultset into dataframe\n",
    "df = pd.DataFrame(news, columns=['Subject', 'Headline', 'Description'])\n",
    "\n",
    "#saving into excel\n",
    "df.to_excel('')"
   ]
  }
 ],
 "metadata": {
  "kernelspec": {
   "display_name": "Python 3 (ipykernel)",
   "language": "python",
   "name": "python3"
  },
  "language_info": {
   "codemirror_mode": {
    "name": "ipython",
    "version": 3
   },
   "file_extension": ".py",
   "mimetype": "text/x-python",
   "name": "python",
   "nbconvert_exporter": "python",
   "pygments_lexer": "ipython3",
   "version": "3.10.9"
  }
 },
 "nbformat": 4,
 "nbformat_minor": 5
}
